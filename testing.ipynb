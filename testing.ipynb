{
 "cells": [
  {
   "cell_type": "code",
   "execution_count": 1,
   "id": "2c3e2d7b-1770-4bc0-b5b0-360ef48dd97f",
   "metadata": {},
   "outputs": [],
   "source": [
    "from train import main"
   ]
  },
  {
   "cell_type": "code",
   "execution_count": 2,
   "id": "1d03ae3b-eb15-485b-b0c3-18d6598fc436",
   "metadata": {},
   "outputs": [
    {
     "name": "stderr",
     "output_type": "stream",
     "text": [
      "usage: ipykernel_launcher.py [-h] [--mode MODE] [--backbone BACKBONE]\n",
      "                             [--pretrain_path PRETRAIN_PATH]\n",
      "                             [--use_conv_last USE_CONV_LAST]\n",
      "                             [--num_epochs NUM_EPOCHS]\n",
      "                             [--epoch_start_i EPOCH_START_I]\n",
      "                             [--checkpoint_step CHECKPOINT_STEP]\n",
      "                             [--validation_step VALIDATION_STEP]\n",
      "                             [--crop_height CROP_HEIGHT]\n",
      "                             [--crop_width CROP_WIDTH]\n",
      "                             [--batch_size BATCH_SIZE]\n",
      "                             [--learning_rate LEARNING_RATE]\n",
      "                             [--num_workers NUM_WORKERS]\n",
      "                             [--num_classes NUM_CLASSES] [--cuda CUDA]\n",
      "                             [--use_gpu USE_GPU]\n",
      "                             [--save_model_path SAVE_MODEL_PATH]\n",
      "                             [--optimizer OPTIMIZER] [--loss LOSS]\n",
      "ipykernel_launcher.py: error: unrecognized arguments: -f /root/.local/share/jupyter/runtime/kernel-72b6e31e-c305-400a-b9bc-24547baa1f9c.json\n"
     ]
    },
    {
     "ename": "SystemExit",
     "evalue": "2",
     "output_type": "error",
     "traceback": [
      "An exception has occurred, use %tb to see the full traceback.\n",
      "\u001b[0;31mSystemExit\u001b[0m\u001b[0;31m:\u001b[0m 2\n"
     ]
    },
    {
     "name": "stderr",
     "output_type": "stream",
     "text": [
      "/opt/conda/envs/aml/lib/python3.12/site-packages/IPython/core/interactiveshell.py:3561: UserWarning: To exit: use 'exit', 'quit', or Ctrl-D.\n",
      "  warn(\"To exit: use 'exit', 'quit', or Ctrl-D.\", stacklevel=1)\n"
     ]
    }
   ],
   "source": [
    "main(0,0)"
   ]
  },
  {
   "cell_type": "code",
   "execution_count": null,
   "id": "be3fd477-d35d-4463-944b-8de7fbd072f1",
   "metadata": {},
   "outputs": [],
   "source": [
    "%tb"
   ]
  }
 ],
 "metadata": {
  "kernelspec": {
   "display_name": "Python (aml)",
   "language": "python",
   "name": "aml"
  },
  "language_info": {
   "codemirror_mode": {
    "name": "ipython",
    "version": 3
   },
   "file_extension": ".py",
   "mimetype": "text/x-python",
   "name": "python",
   "nbconvert_exporter": "python",
   "pygments_lexer": "ipython3",
   "version": "3.12.3"
  }
 },
 "nbformat": 4,
 "nbformat_minor": 5
}
